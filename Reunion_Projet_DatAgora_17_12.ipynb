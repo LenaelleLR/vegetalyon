{
 "cells": [
  {
   "cell_type": "markdown",
   "metadata": {},
   "source": [
    "# Réunion DatAgora – 17 décembre 2020\n",
    "\n",
    "## Où le projet en est actuellement\n",
    "Pas mal de travail avec `CityGML` (BIM, pas encore vu).\n",
    "\n",
    "Projet végétalisation lié au plan canopé : trouver où planter des arbres. Quels critères utiliser. Outil pour pouvoir analyser ces données. Comment et où placer la végétalisation, contraintes sociales et environnementales.\n",
    "Analyser des données actuelles, de manière croisée, pour voir comment placer des arbres en ville. Chercher des données sur la végétalisation dans d’autres villes, voir comment on peut ré-adapter ça pour le projet Canopé.\n",
    "\n",
    "## Ce qu’on veut faire sur le projet, quelle orientation lui donner\n",
    "À quoi on peut vraiment servir dans le projet ?\n",
    "Pour l’instant, à la recherche d’une problématique claire : lire différents articles pour savoir ce qu’il est possible de faire.\n",
    "Côté social dans la problématique : construire un indicateur social sur la place de l’arbre ?\n",
    "\n",
    "On ne va pas se focaliser sur l’impact climatique des arbres, mais plus sur le côté social et voir comment c’est perçu.\n",
    "\n",
    "Utiliser les données spatiales pour trouver qui manquent d’arbres et où on pourrait trouver la place d’en mettre, et où ça gêne le moins.\n",
    "Prendre en compte la question de l’ombre. L’indice de canopé se calcule d’ailleurs avec le taux d’ombre.\n",
    "\n",
    "Question du type de végétalisation : on voit bien qu’une haie est verte, pas forcément pour un grand arbre. Peut-être avoir des arbres moins hauts, utiliser des parterres de fleurs.\n",
    "\n",
    "Discuter avec Gilles Gesquière pour savoir ce qu’il attend de nous : est-ce que c’est plus axé sur une question psychologique ou plus sur des questions spatiales.\n",
    "\n",
    "Plus intéressant de bosser de manière verticale.\n",
    "\n",
    "On est tous intéressé par la question sociale du projet, donc à prendre en compte.\n",
    "\n",
    "Ce qui nous intéresse le plus : <u>le partenariat avec le projet canopé</u>. À voir comment ça se définit : est-ce qu’on se concentre sur un quartier de Lyon ou pas ? À voir au niveau des données disponibles et exploitables.\n",
    "\n",
    "## Sidenote\n",
    "Matinée des entreprises : on parle beaucoup des plantes pour rafraîchir des villes, mais c’est plus efficace de juste projeter de l’eau. Les arbres sont un effet de mode, ça aide au lien social.\n",
    "Faire un préau qui envoie de la brume rafraîchit mieux, mais ce sera moins bien vu."
   ]
  },
  {
   "cell_type": "code",
   "execution_count": null,
   "metadata": {},
   "outputs": [],
   "source": []
  }
 ],
 "metadata": {
  "kernelspec": {
   "display_name": "Python 3",
   "language": "python",
   "name": "python3"
  },
  "language_info": {
   "codemirror_mode": {
    "name": "ipython",
    "version": 3
   },
   "file_extension": ".py",
   "mimetype": "text/x-python",
   "name": "python",
   "nbconvert_exporter": "python",
   "pygments_lexer": "ipython3",
   "version": "3.8.3"
  }
 },
 "nbformat": 4,
 "nbformat_minor": 4
}
